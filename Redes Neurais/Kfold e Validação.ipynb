{
 "cells": [
  {
   "cell_type": "code",
   "execution_count": 123,
   "metadata": {},
   "outputs": [
    {
     "data": {
      "text/html": [
       "<table>\n",
       "<thead><tr><th scope=col>Sepal.Length</th><th scope=col>Sepal.Width</th><th scope=col>Petal.Length</th><th scope=col>Petal.Width</th><th scope=col>Species</th></tr></thead>\n",
       "<tbody>\n",
       "\t<tr><td>5.1   </td><td>3.5   </td><td>1.4   </td><td>0.2   </td><td>setosa</td></tr>\n",
       "\t<tr><td>4.9   </td><td>3.0   </td><td>1.4   </td><td>0.2   </td><td>setosa</td></tr>\n",
       "\t<tr><td>4.7   </td><td>3.2   </td><td>1.3   </td><td>0.2   </td><td>setosa</td></tr>\n",
       "\t<tr><td>4.6   </td><td>3.1   </td><td>1.5   </td><td>0.2   </td><td>setosa</td></tr>\n",
       "\t<tr><td>5.0   </td><td>3.6   </td><td>1.4   </td><td>0.2   </td><td>setosa</td></tr>\n",
       "\t<tr><td>5.4   </td><td>3.9   </td><td>1.7   </td><td>0.4   </td><td>setosa</td></tr>\n",
       "</tbody>\n",
       "</table>\n"
      ],
      "text/latex": [
       "\\begin{tabular}{r|lllll}\n",
       " Sepal.Length & Sepal.Width & Petal.Length & Petal.Width & Species\\\\\n",
       "\\hline\n",
       "\t 5.1    & 3.5    & 1.4    & 0.2    & setosa\\\\\n",
       "\t 4.9    & 3.0    & 1.4    & 0.2    & setosa\\\\\n",
       "\t 4.7    & 3.2    & 1.3    & 0.2    & setosa\\\\\n",
       "\t 4.6    & 3.1    & 1.5    & 0.2    & setosa\\\\\n",
       "\t 5.0    & 3.6    & 1.4    & 0.2    & setosa\\\\\n",
       "\t 5.4    & 3.9    & 1.7    & 0.4    & setosa\\\\\n",
       "\\end{tabular}\n"
      ],
      "text/markdown": [
       "\n",
       "Sepal.Length | Sepal.Width | Petal.Length | Petal.Width | Species | \n",
       "|---|---|---|---|---|---|\n",
       "| 5.1    | 3.5    | 1.4    | 0.2    | setosa | \n",
       "| 4.9    | 3.0    | 1.4    | 0.2    | setosa | \n",
       "| 4.7    | 3.2    | 1.3    | 0.2    | setosa | \n",
       "| 4.6    | 3.1    | 1.5    | 0.2    | setosa | \n",
       "| 5.0    | 3.6    | 1.4    | 0.2    | setosa | \n",
       "| 5.4    | 3.9    | 1.7    | 0.4    | setosa | \n",
       "\n",
       "\n"
      ],
      "text/plain": [
       "  Sepal.Length Sepal.Width Petal.Length Petal.Width Species\n",
       "1 5.1          3.5         1.4          0.2         setosa \n",
       "2 4.9          3.0         1.4          0.2         setosa \n",
       "3 4.7          3.2         1.3          0.2         setosa \n",
       "4 4.6          3.1         1.5          0.2         setosa \n",
       "5 5.0          3.6         1.4          0.2         setosa \n",
       "6 5.4          3.9         1.7          0.4         setosa "
      ]
     },
     "metadata": {},
     "output_type": "display_data"
    }
   ],
   "source": [
    "data(\"iris\")\n",
    "head(iris)"
   ]
  },
  {
   "cell_type": "code",
   "execution_count": 124,
   "metadata": {},
   "outputs": [
    {
     "data": {
      "text/html": [
       "<table>\n",
       "<thead><tr><th scope=col>Petal.Length</th><th scope=col>Petal.Width</th><th scope=col>Species</th></tr></thead>\n",
       "<tbody>\n",
       "\t<tr><td>1.4   </td><td>0.2   </td><td>setosa</td></tr>\n",
       "\t<tr><td>1.4   </td><td>0.2   </td><td>setosa</td></tr>\n",
       "\t<tr><td>1.3   </td><td>0.2   </td><td>setosa</td></tr>\n",
       "\t<tr><td>1.5   </td><td>0.2   </td><td>setosa</td></tr>\n",
       "\t<tr><td>1.4   </td><td>0.2   </td><td>setosa</td></tr>\n",
       "\t<tr><td>1.7   </td><td>0.4   </td><td>setosa</td></tr>\n",
       "</tbody>\n",
       "</table>\n"
      ],
      "text/latex": [
       "\\begin{tabular}{r|lll}\n",
       " Petal.Length & Petal.Width & Species\\\\\n",
       "\\hline\n",
       "\t 1.4    & 0.2    & setosa\\\\\n",
       "\t 1.4    & 0.2    & setosa\\\\\n",
       "\t 1.3    & 0.2    & setosa\\\\\n",
       "\t 1.5    & 0.2    & setosa\\\\\n",
       "\t 1.4    & 0.2    & setosa\\\\\n",
       "\t 1.7    & 0.4    & setosa\\\\\n",
       "\\end{tabular}\n"
      ],
      "text/markdown": [
       "\n",
       "Petal.Length | Petal.Width | Species | \n",
       "|---|---|---|---|---|---|\n",
       "| 1.4    | 0.2    | setosa | \n",
       "| 1.4    | 0.2    | setosa | \n",
       "| 1.3    | 0.2    | setosa | \n",
       "| 1.5    | 0.2    | setosa | \n",
       "| 1.4    | 0.2    | setosa | \n",
       "| 1.7    | 0.4    | setosa | \n",
       "\n",
       "\n"
      ],
      "text/plain": [
       "  Petal.Length Petal.Width Species\n",
       "1 1.4          0.2         setosa \n",
       "2 1.4          0.2         setosa \n",
       "3 1.3          0.2         setosa \n",
       "4 1.5          0.2         setosa \n",
       "5 1.4          0.2         setosa \n",
       "6 1.7          0.4         setosa "
      ]
     },
     "metadata": {},
     "output_type": "display_data"
    }
   ],
   "source": [
    "dataset<-iris[which(iris$Species!=\"versicolor\"),][1:2-3]\n",
    "head(dataset)"
   ]
  },
  {
   "cell_type": "code",
   "execution_count": 125,
   "metadata": {},
   "outputs": [
    {
     "data": {
      "image/png": "[encoded data removed]",
      "text/plain": [
       "plot without title"
      ]
     },
     "metadata": {},
     "output_type": "display_data",
     "source": "R display func"
    }
   ],
   "source": [
    "plot(dataset$Petal.Length,dataset$Petal.Width,pch=c(16,19),col=dataset$Species)\n",
    "legend(5.5,1,legend=c(\"setosa\",\"virginica\"),col=c(1,3),pch=c(16,19))"
   ]
  },
  {
   "cell_type": "code",
   "execution_count": 4,
   "metadata": {},
   "outputs": [
    {
     "name": "stdout",
     "output_type": "stream",
     "text": [
      "  [1] 0 0 0 0 0 0 0 0 0 0 0 0 0 0 0 0 0 0 0 0 0 0 0 0 0 0 0 0 0 0 0 0 0 0 0 0 0\n",
      " [38] 0 0 0 0 0 0 0 0 0 0 0 0 0 1 1 1 1 1 1 1 1 1 1 1 1 1 1 1 1 1 1 1 1 1 1 1 1\n",
      " [75] 1 1 1 1 1 1 1 1 1 1 1 1 1 1 1 1 1 1 1 1 1 1 1 1 1 1\n"
     ]
    }
   ],
   "source": [
    "library(\"plyr\")\n",
    "classes<-as.numeric(dataset$Species)\n",
    "classes_bin<-mapvalues(classes,from=c(1,3),to=c(0,1))\n",
    "print((classes_bin))"
   ]
  },
  {
   "cell_type": "code",
   "execution_count": 34,
   "metadata": {},
   "outputs": [],
   "source": [
    "x1<-dataset[,1]/max(dataset[,1])\n",
    "x2<-dataset[,2]/max(dataset[,2])\n",
    "X <- cbind (x1, x2, 1)\n",
    "Y <- classes_bin"
   ]
  },
  {
   "cell_type": "markdown",
   "metadata": {},
   "source": [
    "## Criar rede neral "
   ]
  },
  {
   "cell_type": "code",
   "execution_count": 82,
   "metadata": {},
   "outputs": [],
   "source": [
    "neural <- function (X, Y){\n",
    "\n",
    "    W<-c(0,0,1)\n",
    "    eta<-0.1\n",
    "    epoca_max<-20\n",
    "    erro_ite<-rep(0,dim(X)[1])\n",
    "    erro_total <- vector()\n",
    "    for(epoca in 1:epoca_max){\n",
    "     for(i in 1:dim(X)[1]) {\n",
    "     v<-sum(X[i,]*W)\n",
    "     if(v>0){\n",
    "     y_calc<-1\n",
    "     }else{\n",
    "     y_calc<-0\n",
    "     }\n",
    "     erro<-Y[i]-y_calc\n",
    "     delta<-(eta*erro*X[i,])\n",
    "     W<-W+delta\n",
    "     erro_ite[i]<-erro^2\n",
    "     }\n",
    "     erro_total[epoca]<-sum(erro_ite)\n",
    "     if(sum(erro_total[epoca])==0){\n",
    "         return (W)\n",
    "     }\n",
    "    }\n",
    "}"
   ]
  },
  {
   "cell_type": "markdown",
   "metadata": {},
   "source": [
    "## Função de Erro"
   ]
  },
  {
   "cell_type": "code",
   "execution_count": 147,
   "metadata": {},
   "outputs": [],
   "source": [
    "erro_teste <- function(X, Y, W) {\n",
    "    erro_total <- 0\n",
    "    for(i in 1:dim(X)[1]) {\n",
    "         v<-sum(X[i,]*W)\n",
    "         if(v>0){\n",
    "         y_calc<-1\n",
    "         }else{\n",
    "         y_calc<-0\n",
    "         }\n",
    "         erro<-Y[i]-y_calc\n",
    "         erro_total <- erro_total + erro^2\n",
    "    }\n",
    "    return (erro_total)\n",
    "}"
   ]
  },
  {
   "cell_type": "markdown",
   "metadata": {},
   "source": [
    "## Função de Acurácia "
   ]
  },
  {
   "cell_type": "code",
   "execution_count": 162,
   "metadata": {},
   "outputs": [],
   "source": [
    "acuracia <- function (X, Y, W){\n",
    "    acertos = 0\n",
    "    erros = 0\n",
    "    for(i in 1:dim(X)[1]) {\n",
    "         v<-sum(X[i,]*W)\n",
    "         if(v>0){\n",
    "         y_calc<-1\n",
    "         }else{\n",
    "         y_calc<-0\n",
    "         }\n",
    "         acertos <- if (y_calc == Y[i]) acertos + 1\n",
    "    }\n",
    "    return (acertos/length(Y))\n",
    "}"
   ]
  },
  {
   "cell_type": "markdown",
   "metadata": {},
   "source": [
    "## Função para fazer K amostragens aleatórias"
   ]
  },
  {
   "cell_type": "code",
   "execution_count": 193,
   "metadata": {},
   "outputs": [],
   "source": [
    "Ws <- c()\n",
    "erros <- c()\n",
    "acuracias <- c()\n",
    "ktestes <- function (X, Y, k){\n",
    "    for (i in 1:k){\n",
    "        n <- nrow(X)\n",
    "        s = sample(n)\n",
    "        shuffled_X <- X[s, ]\n",
    "        shuffled_Y <- Y[s]\n",
    "        train_X <- shuffled_X[1:round(0.8 * n), ]\n",
    "        train_Y <- shuffled_Y[1:round(0.8 * n)]\n",
    "        test_X <- shuffled_X[(round(0.8 * n) + 1):n, ]\n",
    "        test_Y <- shuffled_Y[(round(0.8 * n) + 1):n]\n",
    "        W = neural (train_X, train_Y)\n",
    "        Ws <- c(Ws, W)\n",
    "        erros <- c (erros, erro_teste (X, Y, W))\n",
    "        acuracias <- c(acuracias, acuracia (X, Y, W))\n",
    "    }\n",
    "    return (list(erros, acuracias))\n",
    "}"
   ]
  },
  {
   "cell_type": "markdown",
   "metadata": {},
   "source": [
    "## Rodar 20 vezes e mostrar o erro e a acurácia dos testes"
   ]
  },
  {
   "cell_type": "code",
   "execution_count": 209,
   "metadata": {},
   "outputs": [
    {
     "name": "stdout",
     "output_type": "stream",
     "text": [
      "Erros dos  20  testes:[[1]]\n",
      " [1] 0 0 0 0 0 0 0 0 0 0 0 0 0 0 0 0 0 0 0 0\n",
      "\n",
      "Acurácia dos  20  testes:[[1]]\n",
      " [1] 1 1 1 1 1 1 1 1 1 1 1 1 1 1 1 1 1 1 1 1\n",
      "\n"
     ]
    }
   ],
   "source": [
    "k <- 20\n",
    "resultados <- ktestes (X, Y, k)\n",
    "cat (\"Erros dos \", k, \" testes:\")\n",
    "print(resultados[1])\n",
    "cat (\"Acurácia dos \", k, \" testes:\")\n",
    "print(resultados[2])"
   ]
  }
 ],
 "metadata": {
  "kernelspec": {
   "display_name": "R",
   "language": "R",
   "name": "ir"
  },
  "language_info": {
   "codemirror_mode": "r",
   "file_extension": ".r",
   "mimetype": "text/x-r-source",
   "name": "R",
   "pygments_lexer": "r",
   "version": "3.3.2"
  }
 },
 "nbformat": 4,
 "nbformat_minor": 2
}
