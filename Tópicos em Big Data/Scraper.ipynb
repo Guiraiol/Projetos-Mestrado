{
 "cells": [
  {
   "cell_type": "markdown",
   "metadata": {},
   "source": [
    "## Proposta de trabalho\n",
    "\n",
    "Coletar os filmes com maior bilheteria semanal pelo Box Office Mojo (https://www.boxofficemojo.com/weekly/chart/?yr=2019&wk=12) e coletar tweets a partir desses termos.\n",
    "Para isso foram feitos os seguintes passos:\n",
    "* Montagem de calendário de acordo com as semanas\n",
    "* Obtenção da página web da última semana consolidada\n",
    "* Scraper da tabela de filmes e conversão para Dataframe\n",
    "* Separar os 10 maiores filmes em bilheteria para montar uma query de recuperação de tweets\n",
    "* Coletar tweets com a query específica que aconteceram na semana alvo\n",
    "* Verificar quais filmes são falados nos tweets\n",
    "* Utilizar Regex para contar quantas vezes cada filme foi citado\n",
    "* Usar Tidy Data para obter as observações de filmes por tweet\n",
    "* Filtrar observações que sejam iguais a 0\n",
    "\n",
    "\n",
    "Após isso será verificada a repercursão de cada filme e cruzada com o valor de bilheteria"
   ]
  },
  {
   "cell_type": "code",
   "execution_count": 2,
   "metadata": {},
   "outputs": [],
   "source": [
    "import got3 as got\n",
    "tweetCriteria = got.manager.TweetCriteria().setQuerySearch('(avengers) OR (captain marvel)').setSince(\"2019-03-01\").setUntil(\"2019-05-07\").setMaxTweets(5)\n",
    "tweet = got.manager.TweetManager.getTweets(tweetCriteria)"
   ]
  },
  {
   "cell_type": "code",
   "execution_count": 1,
   "metadata": {},
   "outputs": [],
   "source": [
    "from bs4 import BeautifulSoup\n",
    "import pandas as pd\n",
    "import datetime\n",
    "import numpy as np\n",
    "import sys\n",
    "sys.path.append(\"/home/guiraiol/anaconda3/envs/idp/lib/python3.6/site-packages/\")"
   ]
  },
  {
   "cell_type": "markdown",
   "metadata": {},
   "source": [
    "### Separação de dias da semana do calendário até o fim do ano"
   ]
  },
  {
   "cell_type": "markdown",
   "metadata": {},
   "source": [
    "## Scrap dos dados da semana anterior"
   ]
  },
  {
   "cell_type": "code",
   "execution_count": null,
   "metadata": {},
   "outputs": [],
   "source": [
    "import got3 as got\n",
    "tweetCriteria = got.manager.TweetCriteria().setQuerySearch('#TsunamiDaEducação').\n",
    "tweet = got.manager.TweetManager.getTweets(tweetCriteria)"
   ]
  },
  {
   "cell_type": "code",
   "execution_count": 2,
   "metadata": {},
   "outputs": [
    {
     "name": "stderr",
     "output_type": "stream",
     "text": [
      "[nltk_data] Downloading package stopwords to\n",
      "[nltk_data]     /home/guiraiol/nltk_data...\n",
      "[nltk_data]   Package stopwords is already up-to-date!\n"
     ]
    }
   ],
   "source": [
    "import nltk\n",
    "nltk.download('stopwords')\n",
    "from nltk.corpus import stopwords\n",
    "stopwords_set = set(stopwords.words(\"english\"))\n",
    "import re\n",
    "    \n",
    "def cleanText(y):\n",
    "    x\n",
    "    x = x.lower()\n",
    "    x =  re.sub(r'@[A-Za-z0-9]+','',x)\n",
    "    x = re.sub('https?://[A-Za-z0-9./]+','',x)\n",
    "    x = re.sub(\"[^a-zA-Z]\", \" \", x)\n",
    "    x = re.sub( '\\s+', ' ', x).strip()\n",
    "    return x# \" \".join([word for word in x.split() if word not in (stopwords_set)])"
   ]
  },
  {
   "cell_type": "code",
   "execution_count": 30,
   "metadata": {},
   "outputs": [],
   "source": [
    "from datetime import date, timedelta\n",
    "\n",
    "d1 = date(2019, 3, 10)  # start date\n",
    "d2 = date(2019, 12, 31)  # end date\n",
    "\n",
    "delta = d2 - d1         # timedelta\n",
    "calendar = []\n",
    "for i in range(delta.days + 1):\n",
    "        calendar.append ({\"Day\" : d1 + timedelta(i), \"Week\" : (d1 + timedelta(i)).isocalendar()[1]})\n",
    "calendarDF = pd.DataFrame(calendar)\n",
    "\n",
    "\n",
    "def get_week_days(week):    \n",
    "    return calendarDF[\"Day\"].loc[(calendarDF[\"Week\"] >= week-1) & (calendarDF[\"Week\"] <= week)][4:-3]\n",
    "\n",
    "week = datetime.datetime.now().isocalendar()[1]-1\n",
    "\n",
    "import pyspark\n",
    "from pyspark import SparkContext\n",
    "from pyspark.sql.functions import *\n",
    "import pandas as pd\n",
    "from pyspark.sql import SparkSession\n",
    "\n",
    "\n",
    "conf = pyspark.SparkConf().setAppName(\"big data\")\n",
    "conf = (conf.setMaster('local[*]')\n",
    "                   .set('spark.executor.memory', '8G')\\\n",
    "                   .set('spark.driver.memory', '8G')\\\n",
    "                   .set('spark.driver.maxResultSize', '8G')\\\n",
    "                   .set('spark.sql.crossJoin.enabled', 'true'))\n",
    "sc = pyspark.SparkContext(conf=conf)\n",
    "spark = SparkSession.builder.appName(\"big data\")\\\n",
    ".config(\"spark.mongodb.input.uri\", \"%s%s.%s\" % (\"mongodb://localhost:27017/\", \\\n",
    "                                                 \"mackenzie\",\\\n",
    "                                                 \"movie_tweets\")) \\\n",
    ".config('spark.jars.packages', 'org.mongodb.spark:mongo-spark-connector_2.11:2.4.0')\\\n",
    ".getOrCreate()"
   ]
  },
  {
   "cell_type": "code",
   "execution_count": 125,
   "metadata": {},
   "outputs": [
    {
     "name": "stdout",
     "output_type": "stream",
     "text": [
      "<title>Weekly Box Office Results for May 3-9, 2019 - Box Office Mojo</title>\n",
      "<title>Weekly Box Office Results for April 26-May 2, 2019 - Box Office Mojo</title>\n",
      "<title>Weekly Box Office Results for April 19-25, 2019 - Box Office Mojo</title>\n",
      "<title>Weekly Box Office Results for April 12-18, 2019 - Box Office Mojo</title>\n",
      "<title>Weekly Box Office Results for April 5-11, 2019 - Box Office Mojo</title>\n"
     ]
    }
   ],
   "source": [
    "import got3 as got\n",
    "from pymongo import MongoClient\n",
    "import numpy as np\n",
    "\n",
    "searched = []\n",
    "db = MongoClient().mackenzie.movie_tweets\n",
    "current_week = 19\n",
    "total_gross = 0\n",
    "gross_movie = {}\n",
    "\n",
    "grosses = []\n",
    "k = 0\n",
    "for i in range(1, 6):\n",
    "    from urllib.request import urlopen\n",
    "    from bs4 import BeautifulSoup\n",
    "    html = urlopen(\"https://www.boxofficemojo.com/weekly/chart/?yr=2019&wk=\" + str(current_week -i))\n",
    "    res = BeautifulSoup(html.read(),\"html5lib\");\n",
    "    print(res.title)\n",
    "    table = res.find_all(\"td\")\n",
    "    df = pd.read_html(str(table))[0][1:]\n",
    "    df.columns = [\"This Week Rank\",\"Last Week Rank\", \"Title\", \"Studio\", \"Weekly Gross\", \"% Gross Change\", \"Theater Count\", \"Theater Change\", \"Average\", \"Total Gross\", \"Budget\", \"Week #\"]\n",
    "    df.set_index (\"This Week Rank\").head(15)\n",
    "    gross_numeric = pd.to_numeric(df.head(10)[\"Weekly Gross\"].str.replace(\",\", \"\").str.replace(\"$\", \"\"))\n",
    "    total_gross += gross_numeric.sum()\n",
    "    df[\"Gross Numeric\"] = gross_numeric    \n",
    "    grosses.append({})\n",
    "    grosses[k][\"Week\"] = current_week - i\n",
    "    for i, movie in df.head(10).iterrows():\n",
    "        grosses[k][movie[\"Title\"]] = movie[\"Gross Numeric\"]\n",
    "        if movie[\"Title\"] in gross_movie:\n",
    "            gross_movie[movie[\"Title\"]] += movie[\"Gross Numeric\"]\n",
    "        else:\n",
    "            gross_movie[movie[\"Title\"]] = movie[\"Gross Numeric\"]\n",
    "    k+=1\n",
    "    \n",
    "    '''\n",
    "    for movie in movies:\n",
    "        if movie not in searched:\n",
    "            searched.append(movie)\n",
    "            movie_query = cleanText(movie)\n",
    "            if len(movie_query.split()) == 1:\n",
    "                movie_query += \" movie\"\n",
    "            print(\"Movie:\", movie)\n",
    "            try:\n",
    "                tweetCriteria = got.manager.TweetCriteria().setQuerySearch(movie_query).setSince(\"2019-03-01\").setUntil(\"2019-05-07\")#.setMaxTweets(5)\n",
    "                tweets = [{\"text\" : tweet.text, \"created_at\" : tweet.date, \"user\" : tweet.username, \"id\" : tweet.id, \"movie\" : movie, \"rt\" : tweet.retweets, \"fav\" : tweet.favorites} for tweet in got.manager.TweetManager.getTweets(tweetCriteria)]\n",
    "                db.insert_many(tweets)\n",
    "                print(\"Inserted \", len(tweets), \" tweets\")\n",
    "                del(tweets)\n",
    "            except:\n",
    "                print(\"Movie not succeed:\", movie)\n",
    "     '''       "
   ]
  },
  {
   "cell_type": "code",
   "execution_count": 103,
   "metadata": {},
   "outputs": [
    {
     "data": {
      "text/plain": [
       "<matplotlib.axes._subplots.AxesSubplot at 0x7f272a68b160>"
      ]
     },
     "execution_count": 103,
     "metadata": {},
     "output_type": "execute_result"
    },
    {
     "data": {
      "image/png": "[encoded data removed]",
      "text/plain": [
       "<Figure size 720x576 with 1 Axes>"
      ]
     },
     "metadata": {
      "needs_background": "light"
     },
     "output_type": "display_data"
    }
   ],
   "source": [
    "pd.DataFrame(grosses).plot(figsize = (10, 8))"
   ]
  },
  {
   "cell_type": "code",
   "execution_count": 109,
   "metadata": {},
   "outputs": [
    {
     "data": {
      "text/plain": [
       "<matplotlib.axes._subplots.AxesSubplot at 0x7f2729b91e80>"
      ]
     },
     "execution_count": 109,
     "metadata": {},
     "output_type": "execute_result"
    },
    {
     "data": {
      "image/png": "[encoded data removed]",
      "text/plain": [
       "<Figure size 720x576 with 1 Axes>"
      ]
     },
     "metadata": {
      "needs_background": "light"
     },
     "output_type": "display_data"
    }
   ],
   "source": [
    "pd.DataFrame(grosses).set_index(\"Week\").plot(figsize = (10, 8))"
   ]
  },
  {
   "cell_type": "code",
   "execution_count": 134,
   "metadata": {},
   "outputs": [
    {
     "data": {
      "text/plain": [
       "<matplotlib.legend.Legend at 0x7f27299082e8>"
      ]
     },
     "execution_count": 134,
     "metadata": {},
     "output_type": "execute_result"
    },
    {
     "data": {
      "image/png": "[encoded data removed]",
      "text/plain": [
       "<Figure size 1080x576 with 1 Axes>"
      ]
     },
     "metadata": {
      "needs_background": "light"
     },
     "output_type": "display_data"
    }
   ],
   "source": [
    "dfGrosses = pd.DataFrame(grosses).set_index(\"Week\")\n",
    "dfGrosses.div(dfGrosses.sum(axis=1), axis=0).plot(figsize = (15, 8),style='o-').legend(bbox_to_anchor=(1.2, 1))"
   ]
  },
  {
   "cell_type": "code",
   "execution_count": 73,
   "metadata": {},
   "outputs": [
    {
     "name": "stdout",
     "output_type": "stream",
     "text": [
      "Avengers: Endgame , 473894638.0\n",
      "Shazam! , 132743790.0\n",
      "Dumbo (2019) , 108276592.0\n",
      "Captain Marvel , 83186203.0\n",
      "Us , 78810250.0\n",
      "Pet Sematary (2019) , 53257219.0\n",
      "The Curse of La Llorona , 44600003.0\n",
      "Little , 37110325.0\n",
      "Breakthrough , 29276512.0\n",
      "Hellboy (2019) , 21178833.0\n",
      "Missing Link , 14455055.0\n",
      "Unplanned , 14030305.0\n",
      "Five Feet Apart , 12735793.0\n",
      "Wonder Park , 9780781.0\n",
      "After (2019) , 7935149.0\n",
      "Hotel Mumbai , 7045729.0\n",
      "The Best of Enemies , 6101570.0\n",
      "How to Train Your Dragon: The Hidden World , 5973235.0\n",
      "Tyler Perry's A Madea Family Funeral , 3609631.0\n",
      "The Beach Bum , 2518330.0\n",
      "Penguins (Disneynature) , 1710403.0\n"
     ]
    }
   ],
   "source": [
    "for key, value in sorted(gross_movie.items(), key=lambda kv: -kv[1]):\n",
    "    print(key, \",\", value)\n"
   ]
  },
  {
   "cell_type": "code",
   "execution_count": 19,
   "metadata": {},
   "outputs": [
    {
     "data": {
      "text/plain": [
       "1     0.899518\n",
       "2     0.020809\n",
       "3     0.020530\n",
       "4     0.017968\n",
       "5     0.013503\n",
       "6     0.008923\n",
       "7     0.008561\n",
       "8     0.003672\n",
       "9     0.003269\n",
       "10    0.003247\n",
       "Name: Weekly Gross, dtype: float64"
      ]
     },
     "execution_count": 19,
     "metadata": {},
     "output_type": "execute_result"
    }
   ],
   "source": [
    "gross_numeric = pd.to_numeric(df.head(10)[\"Weekly Gross\"].str.replace(\",\", \"\").str.replace(\"$\", \"\"))\n",
    "gross_numeric/gross_numeric.sum()"
   ]
  },
  {
   "cell_type": "code",
   "execution_count": 44,
   "metadata": {},
   "outputs": [
    {
     "data": {
      "text/plain": [
       "datetime.datetime(2019, 4, 26, 0, 0)"
      ]
     },
     "execution_count": 44,
     "metadata": {},
     "output_type": "execute_result"
    }
   ],
   "source": [
    "from datetime import datetime\n",
    "\n",
    "datetime.combine(np.min(get_week_days(current_week)), datetime.min.time())"
   ]
  },
  {
   "cell_type": "markdown",
   "metadata": {},
   "source": [
    "## Organização dos dados em tabela"
   ]
  },
  {
   "cell_type": "code",
   "execution_count": null,
   "metadata": {},
   "outputs": [],
   "source": [
    "table = res.find_all(\"td\")\n",
    "df = pd.read_html(str(table))[0][1:]\n",
    "#df.columns = [\"Rank\", \"Title\", \"Studio\", \"Worldwide\", \"Domestic\", \"% Domestic\", \"Overseas\", \"% Overseas\"]\n",
    "df.columns = [\"This Week Rank\",\"Last Week Rank\", \"Title\", \"Studio\", \"Weekly Gross\", \"% Gross Change\", \"Theater Count\", \"Theater Change\", \"Average\", \"Total Gross\", \"Budget\", \"Week #\"]\n",
    "df[\"Title\"][1] = \"Avengers OR Endgame\"\n",
    "df[\"Title\"][4] = \"Breakthrough movie\"\n",
    "df[\"Title\"][6] = \"Little movie\"\n",
    "df[\"Title\"][7] = \"Dumbo\"\n",
    "df[\"Title\"][8] = \"Pet sematary\"\n",
    "df[\"Title\"][9] = \"Us movie\"\n",
    "df[\"Title\"][10] = \"Penguins movie\"\n",
    "df.set_index (\"This Week Rank\").head(15)"
   ]
  },
  {
   "cell_type": "markdown",
   "metadata": {},
   "source": [
    "## Query para a busca de tweets"
   ]
  },
  {
   "cell_type": "code",
   "execution_count": 9,
   "metadata": {},
   "outputs": [
    {
     "data": {
      "text/plain": [
       "'(Avengers: Endgame) OR (Captain Marvel) OR (The Curse of La Llorona) OR (Breakthrough movie) OR (Shazam!) OR (Little movie) OR (Dumbo (2019)) OR (Pet Sematary (2019)) OR (Us movie) OR (Penguins movie)'"
      ]
     },
     "execution_count": 9,
     "metadata": {},
     "output_type": "execute_result"
    }
   ],
   "source": [
    "query = \"(\" + \") OR (\".join(df.head(10)[\"Title\"]) + \")\"\n",
    "query"
   ]
  },
  {
   "cell_type": "markdown",
   "metadata": {},
   "source": [
    "## Coleta dos tweets dada a query e os dias da respectiva semana"
   ]
  },
  {
   "cell_type": "code",
   "execution_count": 31,
   "metadata": {},
   "outputs": [],
   "source": [
    "import tweepy\n",
    "from tweepy import OAuthHandler\n",
    "from tweepy import Stream\n",
    "from tweepy.streaming import StreamListener\n",
    "import socket\n",
    "import json\n",
    "from dateutil.parser import *\n",
    "from pymongo import MongoClient\n",
    "class Twitter:\n",
    "    \n",
    "    def __init__ (self, current_week, week_days, query):\n",
    "        token = {}\n",
    "\n",
    "        token[\"access_token\"] = '106758739-6x4oG4p3miv7q03l5RPuAXFzAGCf4PFB8cKOVKmR'\n",
    "        token[\"access_secret\"] = '8KZ7TntRCspc7if03auDaCK66XZVvIDoaEpbxAIXD4epJ'\n",
    "        token[\"consumer_key\"] = 'WRyfaTVVf9YXnNFSmtCNw8Cjl'\n",
    "        token[\"consumer_secret\"] = 'gpzhKJCXZky0e236LXqRyNFdcWsyRPoyIjQGKJwn2T7wtDIJ6g'\n",
    "\n",
    "        option = \"app\"\n",
    "        nRequests = 10000000\n",
    "        #query = '(Captain Marvel) OR (The Wandering Earth) OR (How to Train Your Dragon: The Hidden World) OR (Alita: Battle Angel) OR (Glass) OR (The LEGO Movie 2: The Second Part) OR (Us) OR (Escape Room) OR (The Upside) OR (Extreme Job)'\n",
    "\n",
    "        if option.lower() == \"user\" or option.lower() == \"streaming\":\n",
    "            auth = OAuthHandler(token[\"consumer_key\"], token[\"consumer_secret\"])\n",
    "            auth.set_access_token(token[\"access_token\"], token[\"access_secret\"])\n",
    "        elif option.lower() == \"app\":\n",
    "            auth = tweepy.AppAuthHandler(token[\"consumer_key\"], token[\"consumer_secret\"])\n",
    "\n",
    "        api = tweepy.API(auth, wait_on_rate_limit=True, wait_on_rate_limit_notify=True)\n",
    "\n",
    "        def toJson(t):\n",
    "            t = t._json\n",
    "            t[\"created_at\"] = parse(t[\"created_at\"])\n",
    "            if t[\"created_at\"].date() <= week_days.max() and t[\"created_at\"].date() >= week_days.min():\n",
    "                t[\"week_number\"] = current_week\n",
    "                try:\n",
    "                    db.insert_one(t)\n",
    "                except:\n",
    "                    pass\n",
    "            elif t[\"created_at\"].date() < week_days.min():\n",
    "                self.stop = True                \n",
    "\n",
    "        import time \n",
    "        import datetime\n",
    "\n",
    "        db = MongoClient().mackenzie.movie_tweets\n",
    "        \n",
    "        i = 0\n",
    "        self.stop = False\n",
    "\n",
    "        for tweet in tweepy.Cursor(api.search, q=query + \" -filter:retweets\", count=100, \n",
    "                                                 include_entities=True, lang=\"en\", tweet_mode=\"extended\").pages(nRequests):\n",
    "            print(\"\\rPage %d\" % i, end=\"\")\n",
    "            [toJson(t) for t in list(tweet)]\n",
    "            if (self.stop):\n",
    "                break\n",
    "            i += 1"
   ]
  },
  {
   "cell_type": "code",
   "execution_count": null,
   "metadata": {},
   "outputs": [
    {
     "name": "stdout",
     "output_type": "stream",
     "text": [
      "Page 449"
     ]
    },
    {
     "name": "stderr",
     "output_type": "stream",
     "text": [
      "Rate limit reached. Sleeping for: 475\n"
     ]
    },
    {
     "name": "stdout",
     "output_type": "stream",
     "text": [
      "Page 899"
     ]
    },
    {
     "name": "stderr",
     "output_type": "stream",
     "text": [
      "Rate limit reached. Sleeping for: 480\n"
     ]
    },
    {
     "name": "stdout",
     "output_type": "stream",
     "text": [
      "Page 1189"
     ]
    }
   ],
   "source": [
    "Twitter(current_week, week_days, query)"
   ]
  },
  {
   "cell_type": "markdown",
   "metadata": {},
   "source": [
    "## Visualização dos tweets"
   ]
  },
  {
   "cell_type": "code",
   "execution_count": 7,
   "metadata": {},
   "outputs": [
    {
     "data": {
      "text/html": [
       "<div>\n",
       "<style scoped>\n",
       "    .dataframe tbody tr th:only-of-type {\n",
       "        vertical-align: middle;\n",
       "    }\n",
       "\n",
       "    .dataframe tbody tr th {\n",
       "        vertical-align: top;\n",
       "    }\n",
       "\n",
       "    .dataframe thead th {\n",
       "        text-align: right;\n",
       "    }\n",
       "</style>\n",
       "<table border=\"1\" class=\"dataframe\">\n",
       "  <thead>\n",
       "    <tr style=\"text-align: right;\">\n",
       "      <th></th>\n",
       "      <th>_id</th>\n",
       "      <th>contributors</th>\n",
       "      <th>coordinates</th>\n",
       "      <th>created_at</th>\n",
       "      <th>display_text_range</th>\n",
       "      <th>entities</th>\n",
       "      <th>extended_entities</th>\n",
       "      <th>favorite_count</th>\n",
       "      <th>favorited</th>\n",
       "      <th>full_text</th>\n",
       "      <th>...</th>\n",
       "      <th>quoted_status</th>\n",
       "      <th>quoted_status_id</th>\n",
       "      <th>quoted_status_id_str</th>\n",
       "      <th>retweet_count</th>\n",
       "      <th>retweeted</th>\n",
       "      <th>source</th>\n",
       "      <th>truncated</th>\n",
       "      <th>user</th>\n",
       "      <th>week_number</th>\n",
       "      <th>withheld_in_countries</th>\n",
       "    </tr>\n",
       "  </thead>\n",
       "  <tbody>\n",
       "    <tr>\n",
       "      <th>0</th>\n",
       "      <td>5ca161d59dc6d60d28a33baf</td>\n",
       "      <td>None</td>\n",
       "      <td>None</td>\n",
       "      <td>2019-04-01 00:56:26</td>\n",
       "      <td>[65, 329]</td>\n",
       "      <td>{'hashtags': [], 'symbols': [], 'user_mentions...</td>\n",
       "      <td>NaN</td>\n",
       "      <td>0</td>\n",
       "      <td>False</td>\n",
       "      <td>@Vokul1 @__ShtaKuro__ @peachgass @strangeautho...</td>\n",
       "      <td>...</td>\n",
       "      <td>NaN</td>\n",
       "      <td>NaN</td>\n",
       "      <td>NaN</td>\n",
       "      <td>0</td>\n",
       "      <td>False</td>\n",
       "      <td>&lt;a href=\"http://twitter.com\" rel=\"nofollow\"&gt;Tw...</td>\n",
       "      <td>False</td>\n",
       "      <td>{'id': 249458827, 'id_str': '249458827', 'name...</td>\n",
       "      <td>13</td>\n",
       "      <td>NaN</td>\n",
       "    </tr>\n",
       "    <tr>\n",
       "      <th>1</th>\n",
       "      <td>5ca161d59dc6d60d28a33bb0</td>\n",
       "      <td>None</td>\n",
       "      <td>None</td>\n",
       "      <td>2019-04-01 00:56:24</td>\n",
       "      <td>[0, 78]</td>\n",
       "      <td>{'hashtags': [], 'symbols': [], 'user_mentions...</td>\n",
       "      <td>NaN</td>\n",
       "      <td>0</td>\n",
       "      <td>False</td>\n",
       "      <td>This is the stupidest article I've ever read. ...</td>\n",
       "      <td>...</td>\n",
       "      <td>NaN</td>\n",
       "      <td>NaN</td>\n",
       "      <td>NaN</td>\n",
       "      <td>0</td>\n",
       "      <td>False</td>\n",
       "      <td>&lt;a href=\"http://twitter.com/download/android\" ...</td>\n",
       "      <td>False</td>\n",
       "      <td>{'id': 1058176970951933952, 'id_str': '1058176...</td>\n",
       "      <td>13</td>\n",
       "      <td>NaN</td>\n",
       "    </tr>\n",
       "    <tr>\n",
       "      <th>2</th>\n",
       "      <td>5ca161d59dc6d60d28a33bb1</td>\n",
       "      <td>None</td>\n",
       "      <td>None</td>\n",
       "      <td>2019-04-01 00:56:22</td>\n",
       "      <td>[0, 49]</td>\n",
       "      <td>{'hashtags': [], 'symbols': [], 'user_mentions...</td>\n",
       "      <td>NaN</td>\n",
       "      <td>0</td>\n",
       "      <td>False</td>\n",
       "      <td>I saw Captain Marvel. Very nice, well researched.</td>\n",
       "      <td>...</td>\n",
       "      <td>NaN</td>\n",
       "      <td>NaN</td>\n",
       "      <td>NaN</td>\n",
       "      <td>0</td>\n",
       "      <td>False</td>\n",
       "      <td>&lt;a href=\"http://twitter.com/download/android\" ...</td>\n",
       "      <td>False</td>\n",
       "      <td>{'id': 335716280, 'id_str': '335716280', 'name...</td>\n",
       "      <td>13</td>\n",
       "      <td>NaN</td>\n",
       "    </tr>\n",
       "    <tr>\n",
       "      <th>3</th>\n",
       "      <td>5ca161d59dc6d60d28a33bb2</td>\n",
       "      <td>None</td>\n",
       "      <td>None</td>\n",
       "      <td>2019-04-01 00:56:18</td>\n",
       "      <td>[0, 163]</td>\n",
       "      <td>{'hashtags': [], 'symbols': [], 'user_mentions...</td>\n",
       "      <td>NaN</td>\n",
       "      <td>0</td>\n",
       "      <td>False</td>\n",
       "      <td>UM Has anyone pointed out that Captain Marvel ...</td>\n",
       "      <td>...</td>\n",
       "      <td>NaN</td>\n",
       "      <td>NaN</td>\n",
       "      <td>NaN</td>\n",
       "      <td>0</td>\n",
       "      <td>False</td>\n",
       "      <td>&lt;a href=\"http://twitter.com/download/iphone\" r...</td>\n",
       "      <td>False</td>\n",
       "      <td>{'id': 1740680826, 'id_str': '1740680826', 'na...</td>\n",
       "      <td>13</td>\n",
       "      <td>NaN</td>\n",
       "    </tr>\n",
       "    <tr>\n",
       "      <th>4</th>\n",
       "      <td>5ca161d59dc6d60d28a33bb3</td>\n",
       "      <td>None</td>\n",
       "      <td>None</td>\n",
       "      <td>2019-04-01 00:56:08</td>\n",
       "      <td>[0, 70]</td>\n",
       "      <td>{'hashtags': [], 'symbols': [], 'user_mentions...</td>\n",
       "      <td>NaN</td>\n",
       "      <td>0</td>\n",
       "      <td>False</td>\n",
       "      <td>Just finished watching Captain Marvel. Must sa...</td>\n",
       "      <td>...</td>\n",
       "      <td>NaN</td>\n",
       "      <td>NaN</td>\n",
       "      <td>NaN</td>\n",
       "      <td>0</td>\n",
       "      <td>False</td>\n",
       "      <td>&lt;a href=\"http://twitter.com/download/iphone\" r...</td>\n",
       "      <td>False</td>\n",
       "      <td>{'id': 854817727, 'id_str': '854817727', 'name...</td>\n",
       "      <td>13</td>\n",
       "      <td>NaN</td>\n",
       "    </tr>\n",
       "    <tr>\n",
       "      <th>5</th>\n",
       "      <td>5ca161d59dc6d60d28a33bb4</td>\n",
       "      <td>None</td>\n",
       "      <td>None</td>\n",
       "      <td>2019-04-01 00:56:06</td>\n",
       "      <td>[0, 115]</td>\n",
       "      <td>{'hashtags': [], 'symbols': [], 'user_mentions...</td>\n",
       "      <td>NaN</td>\n",
       "      <td>3</td>\n",
       "      <td>False</td>\n",
       "      <td>We recommend a dozen movies to watch after you...</td>\n",
       "      <td>...</td>\n",
       "      <td>NaN</td>\n",
       "      <td>NaN</td>\n",
       "      <td>NaN</td>\n",
       "      <td>0</td>\n",
       "      <td>False</td>\n",
       "      <td>&lt;a href=\"https://buffer.com\" rel=\"nofollow\"&gt;Bu...</td>\n",
       "      <td>False</td>\n",
       "      <td>{'id': 2172922045, 'id_str': '2172922045', 'na...</td>\n",
       "      <td>13</td>\n",
       "      <td>NaN</td>\n",
       "    </tr>\n",
       "    <tr>\n",
       "      <th>6</th>\n",
       "      <td>5ca161d59dc6d60d28a33bb5</td>\n",
       "      <td>None</td>\n",
       "      <td>None</td>\n",
       "      <td>2019-04-01 00:55:59</td>\n",
       "      <td>[0, 33]</td>\n",
       "      <td>{'hashtags': [], 'symbols': [], 'user_mentions...</td>\n",
       "      <td>NaN</td>\n",
       "      <td>0</td>\n",
       "      <td>False</td>\n",
       "      <td>100000% recommend five feet apart</td>\n",
       "      <td>...</td>\n",
       "      <td>NaN</td>\n",
       "      <td>NaN</td>\n",
       "      <td>NaN</td>\n",
       "      <td>0</td>\n",
       "      <td>False</td>\n",
       "      <td>&lt;a href=\"http://twitter.com/download/iphone\" r...</td>\n",
       "      <td>False</td>\n",
       "      <td>{'id': 1028087039391162368, 'id_str': '1028087...</td>\n",
       "      <td>13</td>\n",
       "      <td>NaN</td>\n",
       "    </tr>\n",
       "    <tr>\n",
       "      <th>7</th>\n",
       "      <td>5ca161d59dc6d60d28a33bb6</td>\n",
       "      <td>None</td>\n",
       "      <td>None</td>\n",
       "      <td>2019-04-01 00:55:51</td>\n",
       "      <td>[0, 30]</td>\n",
       "      <td>{'hashtags': [], 'symbols': [], 'user_mentions...</td>\n",
       "      <td>NaN</td>\n",
       "      <td>0</td>\n",
       "      <td>False</td>\n",
       "      <td>this is goose\\n(captain marvel) https://t.co/B...</td>\n",
       "      <td>...</td>\n",
       "      <td>{'created_at': 'Sat Mar 30 21:26:25 +0000 2019...</td>\n",
       "      <td>1.112104e+18</td>\n",
       "      <td>1112103813819875329</td>\n",
       "      <td>0</td>\n",
       "      <td>False</td>\n",
       "      <td>&lt;a href=\"http://twitter.com/download/iphone\" r...</td>\n",
       "      <td>False</td>\n",
       "      <td>{'id': 3142249665, 'id_str': '3142249665', 'na...</td>\n",
       "      <td>13</td>\n",
       "      <td>NaN</td>\n",
       "    </tr>\n",
       "    <tr>\n",
       "      <th>8</th>\n",
       "      <td>5ca161d59dc6d60d28a33bb7</td>\n",
       "      <td>None</td>\n",
       "      <td>None</td>\n",
       "      <td>2019-04-01 00:55:42</td>\n",
       "      <td>[79, 146]</td>\n",
       "      <td>{'hashtags': [], 'symbols': [], 'user_mentions...</td>\n",
       "      <td>NaN</td>\n",
       "      <td>0</td>\n",
       "      <td>False</td>\n",
       "      <td>@Masshuuil @kaniehtiio @LesleyHampton @Ghost_B...</td>\n",
       "      <td>...</td>\n",
       "      <td>NaN</td>\n",
       "      <td>NaN</td>\n",
       "      <td>NaN</td>\n",
       "      <td>0</td>\n",
       "      <td>False</td>\n",
       "      <td>&lt;a href=\"http://twitter.com/download/android\" ...</td>\n",
       "      <td>False</td>\n",
       "      <td>{'id': 34575138, 'id_str': '34575138', 'name':...</td>\n",
       "      <td>13</td>\n",
       "      <td>NaN</td>\n",
       "    </tr>\n",
       "    <tr>\n",
       "      <th>9</th>\n",
       "      <td>5ca161d59dc6d60d28a33bb8</td>\n",
       "      <td>None</td>\n",
       "      <td>None</td>\n",
       "      <td>2019-04-01 00:55:41</td>\n",
       "      <td>[0, 101]</td>\n",
       "      <td>{'hashtags': [], 'symbols': [], 'user_mentions...</td>\n",
       "      <td>NaN</td>\n",
       "      <td>0</td>\n",
       "      <td>False</td>\n",
       "      <td>Robert Rodriguez: Alita: Battle Angel Part 2 -...</td>\n",
       "      <td>...</td>\n",
       "      <td>NaN</td>\n",
       "      <td>NaN</td>\n",
       "      <td>NaN</td>\n",
       "      <td>0</td>\n",
       "      <td>False</td>\n",
       "      <td>&lt;a href=\"http://twitter.com/download/android\" ...</td>\n",
       "      <td>False</td>\n",
       "      <td>{'id': 34072511, 'id_str': '34072511', 'name':...</td>\n",
       "      <td>13</td>\n",
       "      <td>NaN</td>\n",
       "    </tr>\n",
       "    <tr>\n",
       "      <th>10</th>\n",
       "      <td>5ca161d59dc6d60d28a33bb9</td>\n",
       "      <td>None</td>\n",
       "      <td>None</td>\n",
       "      <td>2019-04-01 00:55:41</td>\n",
       "      <td>[16, 75]</td>\n",
       "      <td>{'hashtags': [], 'symbols': [], 'user_mentions...</td>\n",
       "      <td>NaN</td>\n",
       "      <td>1</td>\n",
       "      <td>False</td>\n",
       "      <td>@SteveDeaceShow Than Captain Marvel THIS weeke...</td>\n",
       "      <td>...</td>\n",
       "      <td>NaN</td>\n",
       "      <td>NaN</td>\n",
       "      <td>NaN</td>\n",
       "      <td>0</td>\n",
       "      <td>False</td>\n",
       "      <td>&lt;a href=\"http://twitter.com\" rel=\"nofollow\"&gt;Tw...</td>\n",
       "      <td>False</td>\n",
       "      <td>{'id': 4273383853, 'id_str': '4273383853', 'na...</td>\n",
       "      <td>13</td>\n",
       "      <td>NaN</td>\n",
       "    </tr>\n",
       "    <tr>\n",
       "      <th>11</th>\n",
       "      <td>5ca161d59dc6d60d28a33bba</td>\n",
       "      <td>None</td>\n",
       "      <td>None</td>\n",
       "      <td>2019-04-01 00:55:40</td>\n",
       "      <td>[0, 60]</td>\n",
       "      <td>{'hashtags': [], 'symbols': [], 'user_mentions...</td>\n",
       "      <td>NaN</td>\n",
       "      <td>0</td>\n",
       "      <td>False</td>\n",
       "      <td>Captain Marvel was pretty good. It gave me 90s...</td>\n",
       "      <td>...</td>\n",
       "      <td>NaN</td>\n",
       "      <td>NaN</td>\n",
       "      <td>NaN</td>\n",
       "      <td>0</td>\n",
       "      <td>False</td>\n",
       "      <td>&lt;a href=\"http://twitter.com/download/android\" ...</td>\n",
       "      <td>False</td>\n",
       "      <td>{'id': 1703538271, 'id_str': '1703538271', 'na...</td>\n",
       "      <td>13</td>\n",
       "      <td>NaN</td>\n",
       "    </tr>\n",
       "    <tr>\n",
       "      <th>12</th>\n",
       "      <td>5ca161d59dc6d60d28a33bbb</td>\n",
       "      <td>None</td>\n",
       "      <td>None</td>\n",
       "      <td>2019-04-01 00:55:37</td>\n",
       "      <td>[0, 65]</td>\n",
       "      <td>{'hashtags': [{'text': 'agreed', 'indices': [5...</td>\n",
       "      <td>NaN</td>\n",
       "      <td>0</td>\n",
       "      <td>False</td>\n",
       "      <td>my dad just said he hopes captain marvel and t...</td>\n",
       "      <td>...</td>\n",
       "      <td>NaN</td>\n",
       "      <td>NaN</td>\n",
       "      <td>NaN</td>\n",
       "      <td>0</td>\n",
       "      <td>False</td>\n",
       "      <td>&lt;a href=\"http://twitter.com/download/iphone\" r...</td>\n",
       "      <td>False</td>\n",
       "      <td>{'id': 62713683, 'id_str': '62713683', 'name':...</td>\n",
       "      <td>13</td>\n",
       "      <td>NaN</td>\n",
       "    </tr>\n",
       "    <tr>\n",
       "      <th>13</th>\n",
       "      <td>5ca161d59dc6d60d28a33bbc</td>\n",
       "      <td>None</td>\n",
       "      <td>None</td>\n",
       "      <td>2019-04-01 00:55:04</td>\n",
       "      <td>[0, 123]</td>\n",
       "      <td>{'hashtags': [], 'symbols': [], 'user_mentions...</td>\n",
       "      <td>NaN</td>\n",
       "      <td>0</td>\n",
       "      <td>False</td>\n",
       "      <td>Breakout Box Office Hit: Pro-Life Film 'Unplan...</td>\n",
       "      <td>...</td>\n",
       "      <td>NaN</td>\n",
       "      <td>NaN</td>\n",
       "      <td>NaN</td>\n",
       "      <td>0</td>\n",
       "      <td>False</td>\n",
       "      <td>&lt;a href=\"http://www.facebook.com/twitter\" rel=...</td>\n",
       "      <td>False</td>\n",
       "      <td>{'id': 62117001, 'id_str': '62117001', 'name':...</td>\n",
       "      <td>13</td>\n",
       "      <td>NaN</td>\n",
       "    </tr>\n",
       "    <tr>\n",
       "      <th>14</th>\n",
       "      <td>5ca161d59dc6d60d28a33bbd</td>\n",
       "      <td>None</td>\n",
       "      <td>None</td>\n",
       "      <td>2019-04-01 00:55:01</td>\n",
       "      <td>[0, 130]</td>\n",
       "      <td>{'hashtags': [{'text': 'GoSeeCaptainMarvel', '...</td>\n",
       "      <td>NaN</td>\n",
       "      <td>0</td>\n",
       "      <td>False</td>\n",
       "      <td>I voted for #GoSeeCaptainMarvel on @TheTylt—#C...</td>\n",
       "      <td>...</td>\n",
       "      <td>NaN</td>\n",
       "      <td>NaN</td>\n",
       "      <td>NaN</td>\n",
       "      <td>0</td>\n",
       "      <td>False</td>\n",
       "      <td>&lt;a href=\"http://twitter.com/download/android\" ...</td>\n",
       "      <td>False</td>\n",
       "      <td>{'id': 34452602, 'id_str': '34452602', 'name':...</td>\n",
       "      <td>13</td>\n",
       "      <td>NaN</td>\n",
       "    </tr>\n",
       "  </tbody>\n",
       "</table>\n",
       "<p>15 rows × 33 columns</p>\n",
       "</div>"
      ],
      "text/plain": [
       "                         _id contributors coordinates          created_at  \\\n",
       "0   5ca161d59dc6d60d28a33baf         None        None 2019-04-01 00:56:26   \n",
       "1   5ca161d59dc6d60d28a33bb0         None        None 2019-04-01 00:56:24   \n",
       "2   5ca161d59dc6d60d28a33bb1         None        None 2019-04-01 00:56:22   \n",
       "3   5ca161d59dc6d60d28a33bb2         None        None 2019-04-01 00:56:18   \n",
       "4   5ca161d59dc6d60d28a33bb3         None        None 2019-04-01 00:56:08   \n",
       "5   5ca161d59dc6d60d28a33bb4         None        None 2019-04-01 00:56:06   \n",
       "6   5ca161d59dc6d60d28a33bb5         None        None 2019-04-01 00:55:59   \n",
       "7   5ca161d59dc6d60d28a33bb6         None        None 2019-04-01 00:55:51   \n",
       "8   5ca161d59dc6d60d28a33bb7         None        None 2019-04-01 00:55:42   \n",
       "9   5ca161d59dc6d60d28a33bb8         None        None 2019-04-01 00:55:41   \n",
       "10  5ca161d59dc6d60d28a33bb9         None        None 2019-04-01 00:55:41   \n",
       "11  5ca161d59dc6d60d28a33bba         None        None 2019-04-01 00:55:40   \n",
       "12  5ca161d59dc6d60d28a33bbb         None        None 2019-04-01 00:55:37   \n",
       "13  5ca161d59dc6d60d28a33bbc         None        None 2019-04-01 00:55:04   \n",
       "14  5ca161d59dc6d60d28a33bbd         None        None 2019-04-01 00:55:01   \n",
       "\n",
       "   display_text_range                                           entities  \\\n",
       "0           [65, 329]  {'hashtags': [], 'symbols': [], 'user_mentions...   \n",
       "1             [0, 78]  {'hashtags': [], 'symbols': [], 'user_mentions...   \n",
       "2             [0, 49]  {'hashtags': [], 'symbols': [], 'user_mentions...   \n",
       "3            [0, 163]  {'hashtags': [], 'symbols': [], 'user_mentions...   \n",
       "4             [0, 70]  {'hashtags': [], 'symbols': [], 'user_mentions...   \n",
       "5            [0, 115]  {'hashtags': [], 'symbols': [], 'user_mentions...   \n",
       "6             [0, 33]  {'hashtags': [], 'symbols': [], 'user_mentions...   \n",
       "7             [0, 30]  {'hashtags': [], 'symbols': [], 'user_mentions...   \n",
       "8           [79, 146]  {'hashtags': [], 'symbols': [], 'user_mentions...   \n",
       "9            [0, 101]  {'hashtags': [], 'symbols': [], 'user_mentions...   \n",
       "10           [16, 75]  {'hashtags': [], 'symbols': [], 'user_mentions...   \n",
       "11            [0, 60]  {'hashtags': [], 'symbols': [], 'user_mentions...   \n",
       "12            [0, 65]  {'hashtags': [{'text': 'agreed', 'indices': [5...   \n",
       "13           [0, 123]  {'hashtags': [], 'symbols': [], 'user_mentions...   \n",
       "14           [0, 130]  {'hashtags': [{'text': 'GoSeeCaptainMarvel', '...   \n",
       "\n",
       "   extended_entities  favorite_count  favorited  \\\n",
       "0                NaN               0      False   \n",
       "1                NaN               0      False   \n",
       "2                NaN               0      False   \n",
       "3                NaN               0      False   \n",
       "4                NaN               0      False   \n",
       "5                NaN               3      False   \n",
       "6                NaN               0      False   \n",
       "7                NaN               0      False   \n",
       "8                NaN               0      False   \n",
       "9                NaN               0      False   \n",
       "10               NaN               1      False   \n",
       "11               NaN               0      False   \n",
       "12               NaN               0      False   \n",
       "13               NaN               0      False   \n",
       "14               NaN               0      False   \n",
       "\n",
       "                                            full_text          ...           \\\n",
       "0   @Vokul1 @__ShtaKuro__ @peachgass @strangeautho...          ...            \n",
       "1   This is the stupidest article I've ever read. ...          ...            \n",
       "2   I saw Captain Marvel. Very nice, well researched.          ...            \n",
       "3   UM Has anyone pointed out that Captain Marvel ...          ...            \n",
       "4   Just finished watching Captain Marvel. Must sa...          ...            \n",
       "5   We recommend a dozen movies to watch after you...          ...            \n",
       "6                   100000% recommend five feet apart          ...            \n",
       "7   this is goose\\n(captain marvel) https://t.co/B...          ...            \n",
       "8   @Masshuuil @kaniehtiio @LesleyHampton @Ghost_B...          ...            \n",
       "9   Robert Rodriguez: Alita: Battle Angel Part 2 -...          ...            \n",
       "10  @SteveDeaceShow Than Captain Marvel THIS weeke...          ...            \n",
       "11  Captain Marvel was pretty good. It gave me 90s...          ...            \n",
       "12  my dad just said he hopes captain marvel and t...          ...            \n",
       "13  Breakout Box Office Hit: Pro-Life Film 'Unplan...          ...            \n",
       "14  I voted for #GoSeeCaptainMarvel on @TheTylt—#C...          ...            \n",
       "\n",
       "                                        quoted_status  quoted_status_id  \\\n",
       "0                                                 NaN               NaN   \n",
       "1                                                 NaN               NaN   \n",
       "2                                                 NaN               NaN   \n",
       "3                                                 NaN               NaN   \n",
       "4                                                 NaN               NaN   \n",
       "5                                                 NaN               NaN   \n",
       "6                                                 NaN               NaN   \n",
       "7   {'created_at': 'Sat Mar 30 21:26:25 +0000 2019...      1.112104e+18   \n",
       "8                                                 NaN               NaN   \n",
       "9                                                 NaN               NaN   \n",
       "10                                                NaN               NaN   \n",
       "11                                                NaN               NaN   \n",
       "12                                                NaN               NaN   \n",
       "13                                                NaN               NaN   \n",
       "14                                                NaN               NaN   \n",
       "\n",
       "   quoted_status_id_str retweet_count  retweeted  \\\n",
       "0                   NaN             0      False   \n",
       "1                   NaN             0      False   \n",
       "2                   NaN             0      False   \n",
       "3                   NaN             0      False   \n",
       "4                   NaN             0      False   \n",
       "5                   NaN             0      False   \n",
       "6                   NaN             0      False   \n",
       "7   1112103813819875329             0      False   \n",
       "8                   NaN             0      False   \n",
       "9                   NaN             0      False   \n",
       "10                  NaN             0      False   \n",
       "11                  NaN             0      False   \n",
       "12                  NaN             0      False   \n",
       "13                  NaN             0      False   \n",
       "14                  NaN             0      False   \n",
       "\n",
       "                                               source  truncated  \\\n",
       "0   <a href=\"http://twitter.com\" rel=\"nofollow\">Tw...      False   \n",
       "1   <a href=\"http://twitter.com/download/android\" ...      False   \n",
       "2   <a href=\"http://twitter.com/download/android\" ...      False   \n",
       "3   <a href=\"http://twitter.com/download/iphone\" r...      False   \n",
       "4   <a href=\"http://twitter.com/download/iphone\" r...      False   \n",
       "5   <a href=\"https://buffer.com\" rel=\"nofollow\">Bu...      False   \n",
       "6   <a href=\"http://twitter.com/download/iphone\" r...      False   \n",
       "7   <a href=\"http://twitter.com/download/iphone\" r...      False   \n",
       "8   <a href=\"http://twitter.com/download/android\" ...      False   \n",
       "9   <a href=\"http://twitter.com/download/android\" ...      False   \n",
       "10  <a href=\"http://twitter.com\" rel=\"nofollow\">Tw...      False   \n",
       "11  <a href=\"http://twitter.com/download/android\" ...      False   \n",
       "12  <a href=\"http://twitter.com/download/iphone\" r...      False   \n",
       "13  <a href=\"http://www.facebook.com/twitter\" rel=...      False   \n",
       "14  <a href=\"http://twitter.com/download/android\" ...      False   \n",
       "\n",
       "                                                 user  week_number  \\\n",
       "0   {'id': 249458827, 'id_str': '249458827', 'name...           13   \n",
       "1   {'id': 1058176970951933952, 'id_str': '1058176...           13   \n",
       "2   {'id': 335716280, 'id_str': '335716280', 'name...           13   \n",
       "3   {'id': 1740680826, 'id_str': '1740680826', 'na...           13   \n",
       "4   {'id': 854817727, 'id_str': '854817727', 'name...           13   \n",
       "5   {'id': 2172922045, 'id_str': '2172922045', 'na...           13   \n",
       "6   {'id': 1028087039391162368, 'id_str': '1028087...           13   \n",
       "7   {'id': 3142249665, 'id_str': '3142249665', 'na...           13   \n",
       "8   {'id': 34575138, 'id_str': '34575138', 'name':...           13   \n",
       "9   {'id': 34072511, 'id_str': '34072511', 'name':...           13   \n",
       "10  {'id': 4273383853, 'id_str': '4273383853', 'na...           13   \n",
       "11  {'id': 1703538271, 'id_str': '1703538271', 'na...           13   \n",
       "12  {'id': 62713683, 'id_str': '62713683', 'name':...           13   \n",
       "13  {'id': 62117001, 'id_str': '62117001', 'name':...           13   \n",
       "14  {'id': 34452602, 'id_str': '34452602', 'name':...           13   \n",
       "\n",
       "   withheld_in_countries  \n",
       "0                    NaN  \n",
       "1                    NaN  \n",
       "2                    NaN  \n",
       "3                    NaN  \n",
       "4                    NaN  \n",
       "5                    NaN  \n",
       "6                    NaN  \n",
       "7                    NaN  \n",
       "8                    NaN  \n",
       "9                    NaN  \n",
       "10                   NaN  \n",
       "11                   NaN  \n",
       "12                   NaN  \n",
       "13                   NaN  \n",
       "14                   NaN  \n",
       "\n",
       "[15 rows x 33 columns]"
      ]
     },
     "execution_count": 7,
     "metadata": {},
     "output_type": "execute_result"
    }
   ],
   "source": [
    "from pymongo import MongoClient\n",
    "\n",
    "col = MongoClient().mackenzie.movie_tweets\n",
    "tweets = list(col.find())\n",
    "tweetsDF = pd.DataFrame(tweets)\n",
    "tweetsDF.head(15)"
   ]
  },
  {
   "cell_type": "markdown",
   "metadata": {},
   "source": [
    "## Função de pré processamento de Texto"
   ]
  },
  {
   "cell_type": "code",
   "execution_count": 8,
   "metadata": {},
   "outputs": [],
   "source": [
    "import nltk\n",
    "from nltk.corpus import stopwords\n",
    "stopwords_set = set(stopwords.words(\"english\"))\n",
    "import re\n",
    "    \n",
    "def cleanText(x):\n",
    "    x = x.lower()\n",
    "    x =  re.sub(r'@[A-Za-z0-9]+','',x)\n",
    "    x = re.sub('https?://[A-Za-z0-9./]+','',x)\n",
    "    x = re.sub(\"[^a-zA-Z]\", \" \", x)\n",
    "    x = re.sub( '\\s+', ' ', x).strip()\n",
    "    return [word for word in x.split() if word not in (stopwords_set)]"
   ]
  },
  {
   "cell_type": "markdown",
   "metadata": {},
   "source": [
    "## Verificar a existência do filme no tweet"
   ]
  },
  {
   "cell_type": "code",
   "execution_count": null,
   "metadata": {},
   "outputs": [
    {
     "name": "stderr",
     "output_type": "stream",
     "text": [
      "/home/guiraiol/anaconda3/envs/idp/lib/python3.6/site-packages/ipykernel_launcher.py:3: SettingWithCopyWarning: \n",
      "A value is trying to be set on a copy of a slice from a DataFrame.\n",
      "Try using .loc[row_indexer,col_indexer] = value instead\n",
      "\n",
      "See the caveats in the documentation: http://pandas.pydata.org/pandas-docs/stable/indexing.html#indexing-view-versus-copy\n",
      "  This is separate from the ipykernel package so we can avoid doing imports until\n"
     ]
    }
   ],
   "source": [
    "moviesDF = tweetsDF[[\"id\", \"full_text\", \"created_at\"]]\n",
    "for value in df[\"Title\"].values[:10]:\n",
    "    moviesDF[value] = moviesDF[\"full_text\"].apply(lambda x: 1 if all(word in cleanText(x) for word in cleanText(value)) else 0)\n",
    "moviesDF.head(15)"
   ]
  },
  {
   "cell_type": "markdown",
   "metadata": {},
   "source": [
    "## Contagem dos tweets por filme"
   ]
  },
  {
   "cell_type": "code",
   "execution_count": null,
   "metadata": {},
   "outputs": [],
   "source": [
    "for value in df[\"Title\"].values[:10]:\n",
    "    print(value, moviesDF[value].sum())"
   ]
  },
  {
   "cell_type": "markdown",
   "metadata": {},
   "source": [
    "## Gerar Tidy Data para cada observação, filtrando os tweets que não têm o filme e organizando para que cada linha seja um tweet que contém um filme"
   ]
  },
  {
   "cell_type": "code",
   "execution_count": null,
   "metadata": {},
   "outputs": [],
   "source": [
    "tidyMovies = pd.melt(moviesDF, id_vars=['id', 'full_text', 'created_at'])\n",
    "tidyMovies = tidyMovies[tidyMovies.value != 0].rename(columns = {\"variable\" : \"movie\", \"value\" : \"present\"})\n",
    "tidyMovies.head(15)"
   ]
  }
 ],
 "metadata": {
  "kernelspec": {
   "display_name": "Python 3",
   "language": "python",
   "name": "python3"
  },
  "language_info": {
   "codemirror_mode": {
    "name": "ipython",
    "version": 3
   },
   "file_extension": ".py",
   "mimetype": "text/x-python",
   "name": "python",
   "nbconvert_exporter": "python",
   "pygments_lexer": "ipython3",
   "version": "3.6.8"
  }
 },
 "nbformat": 4,
 "nbformat_minor": 2
}
